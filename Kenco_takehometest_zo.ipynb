{
 "cells": [
  {
   "cell_type": "code",
   "execution_count": 2,
   "metadata": {
    "colab": {
     "base_uri": "https://localhost:8080/"
    },
    "executionInfo": {
     "elapsed": 321,
     "status": "ok",
     "timestamp": 1679410331549,
     "user": {
      "displayName": "Zachary Ohl",
      "userId": "00082794272160020209"
     },
     "user_tz": 240
    },
    "id": "4pZa_19Iovp6",
    "outputId": "b47da011-f980-492a-bd84-aea5dc2ea0d4"
   },
   "outputs": [
    {
     "data": {
      "text/plain": [
       "'C:\\\\Users\\\\Zachary Ohl\\\\Desktop\\\\new job folder\\\\Kenco'"
      ]
     },
     "execution_count": 2,
     "metadata": {},
     "output_type": "execute_result"
    }
   ],
   "source": [
    "%pwd"
   ]
  },
  {
   "cell_type": "code",
   "execution_count": 3,
   "metadata": {
    "executionInfo": {
     "elapsed": 1411,
     "status": "ok",
     "timestamp": 1679410052757,
     "user": {
      "displayName": "Zachary Ohl",
      "userId": "00082794272160020209"
     },
     "user_tz": 240
    },
    "id": "tVkCowvocNkg"
   },
   "outputs": [],
   "source": [
    "import numpy as np\n",
    "import pandas as pd"
   ]
  },
  {
   "cell_type": "code",
   "execution_count": 19,
   "metadata": {
    "executionInfo": {
     "elapsed": 1540,
     "status": "ok",
     "timestamp": 1679410063035,
     "user": {
      "displayName": "Zachary Ohl",
      "userId": "00082794272160020209"
     },
     "user_tz": 240
    },
    "id": "WW4Zu49LbuAa",
    "scrolled": true
   },
   "outputs": [
    {
     "data": {
      "text/html": [
       "<div>\n",
       "<style scoped>\n",
       "    .dataframe tbody tr th:only-of-type {\n",
       "        vertical-align: middle;\n",
       "    }\n",
       "\n",
       "    .dataframe tbody tr th {\n",
       "        vertical-align: top;\n",
       "    }\n",
       "\n",
       "    .dataframe thead th {\n",
       "        text-align: right;\n",
       "    }\n",
       "</style>\n",
       "<table border=\"1\" class=\"dataframe\">\n",
       "  <thead>\n",
       "    <tr style=\"text-align: right;\">\n",
       "      <th></th>\n",
       "      <th>ActualShip</th>\n",
       "      <th>KEY_LOAD_TRACKING</th>\n",
       "      <th>CreateDate</th>\n",
       "      <th>ActualDelivery</th>\n",
       "      <th>Carrier</th>\n",
       "      <th>ConsigneeCity</th>\n",
       "      <th>ConsigneeCountry</th>\n",
       "      <th>ConsigneeZip</th>\n",
       "      <th>DetailCity</th>\n",
       "      <th>DetailState</th>\n",
       "      <th>...</th>\n",
       "      <th>av_dow</th>\n",
       "      <th>AS_dow</th>\n",
       "      <th>EST_AV</th>\n",
       "      <th>holiday_flag</th>\n",
       "      <th>new_EST_AV</th>\n",
       "      <th>new_EST_AV_dow</th>\n",
       "      <th>Final_EST_AV</th>\n",
       "      <th>Final_EST_AV_dow</th>\n",
       "      <th>target</th>\n",
       "      <th>target_numerical</th>\n",
       "    </tr>\n",
       "  </thead>\n",
       "  <tbody>\n",
       "    <tr>\n",
       "      <th>8995</th>\n",
       "      <td>2019-12-03 00:00:00.000</td>\n",
       "      <td>9916608512</td>\n",
       "      <td>2019-12-04 07:03</td>\n",
       "      <td>2019-12-09 00:00:00.000</td>\n",
       "      <td>4</td>\n",
       "      <td>SHEBOYGAN</td>\n",
       "      <td>NaN</td>\n",
       "      <td>53081</td>\n",
       "      <td>DUNCAN</td>\n",
       "      <td>SC</td>\n",
       "      <td>...</td>\n",
       "      <td>Thursday</td>\n",
       "      <td>Tuesday</td>\n",
       "      <td>2019-12-05 00:00:00.000</td>\n",
       "      <td>False</td>\n",
       "      <td>2019-12-05 00:00:00.000</td>\n",
       "      <td>Thursday</td>\n",
       "      <td>2019-12-05 00:00:00.000</td>\n",
       "      <td>Thursday</td>\n",
       "      <td>positive</td>\n",
       "      <td>1</td>\n",
       "    </tr>\n",
       "    <tr>\n",
       "      <th>8996</th>\n",
       "      <td>2019-12-03 00:00:00.000</td>\n",
       "      <td>9916608424</td>\n",
       "      <td>2019-12-04 07:03</td>\n",
       "      <td>2019-12-10 00:00:00.000</td>\n",
       "      <td>4</td>\n",
       "      <td>APPLE VALLEY</td>\n",
       "      <td>NaN</td>\n",
       "      <td>92307</td>\n",
       "      <td>APPLE VALLEY</td>\n",
       "      <td>CA</td>\n",
       "      <td>...</td>\n",
       "      <td>Friday</td>\n",
       "      <td>Tuesday</td>\n",
       "      <td>2019-12-06 00:00:00.000</td>\n",
       "      <td>False</td>\n",
       "      <td>2019-12-06 00:00:00.000</td>\n",
       "      <td>Friday</td>\n",
       "      <td>2019-12-06 00:00:00.000</td>\n",
       "      <td>Friday</td>\n",
       "      <td>positive</td>\n",
       "      <td>1</td>\n",
       "    </tr>\n",
       "    <tr>\n",
       "      <th>8997</th>\n",
       "      <td>2019-12-03 00:00:00.000</td>\n",
       "      <td>9916608466</td>\n",
       "      <td>2019-12-04 07:03</td>\n",
       "      <td>2019-12-05 00:00:00.000</td>\n",
       "      <td>4</td>\n",
       "      <td>MIAMITOWN</td>\n",
       "      <td>NaN</td>\n",
       "      <td>45041</td>\n",
       "      <td>DUNCAN</td>\n",
       "      <td>SC</td>\n",
       "      <td>...</td>\n",
       "      <td>Wednesday</td>\n",
       "      <td>Tuesday</td>\n",
       "      <td>2019-12-04 00:00:00.000</td>\n",
       "      <td>False</td>\n",
       "      <td>2019-12-04 00:00:00.000</td>\n",
       "      <td>Wednesday</td>\n",
       "      <td>2019-12-04 00:00:00.000</td>\n",
       "      <td>Wednesday</td>\n",
       "      <td>positive</td>\n",
       "      <td>1</td>\n",
       "    </tr>\n",
       "    <tr>\n",
       "      <th>8998</th>\n",
       "      <td>2019-12-03 00:00:00.000</td>\n",
       "      <td>9916608423</td>\n",
       "      <td>2019-12-04 07:03</td>\n",
       "      <td>2019-12-09 00:00:00.000</td>\n",
       "      <td>4</td>\n",
       "      <td>MARCY</td>\n",
       "      <td>NaN</td>\n",
       "      <td>13403</td>\n",
       "      <td>CARLISLE</td>\n",
       "      <td>PA</td>\n",
       "      <td>...</td>\n",
       "      <td>Friday</td>\n",
       "      <td>Tuesday</td>\n",
       "      <td>2019-12-06 00:00:00.000</td>\n",
       "      <td>False</td>\n",
       "      <td>2019-12-06 00:00:00.000</td>\n",
       "      <td>Friday</td>\n",
       "      <td>2019-12-06 00:00:00.000</td>\n",
       "      <td>Friday</td>\n",
       "      <td>positive</td>\n",
       "      <td>1</td>\n",
       "    </tr>\n",
       "    <tr>\n",
       "      <th>8999</th>\n",
       "      <td>2019-12-03 00:00:00.000</td>\n",
       "      <td>9916608420</td>\n",
       "      <td>2019-12-04 07:03</td>\n",
       "      <td>2019-12-05 00:00:00.000</td>\n",
       "      <td>4</td>\n",
       "      <td>LUGOFF</td>\n",
       "      <td>NaN</td>\n",
       "      <td>29078</td>\n",
       "      <td>DUNCAN</td>\n",
       "      <td>SC</td>\n",
       "      <td>...</td>\n",
       "      <td>Wednesday</td>\n",
       "      <td>Tuesday</td>\n",
       "      <td>2019-12-04 00:00:00.000</td>\n",
       "      <td>False</td>\n",
       "      <td>2019-12-04 00:00:00.000</td>\n",
       "      <td>Wednesday</td>\n",
       "      <td>2019-12-04 00:00:00.000</td>\n",
       "      <td>Wednesday</td>\n",
       "      <td>positive</td>\n",
       "      <td>1</td>\n",
       "    </tr>\n",
       "  </tbody>\n",
       "</table>\n",
       "<p>5 rows × 61 columns</p>\n",
       "</div>"
      ],
      "text/plain": [
       "                   ActualShip  KEY_LOAD_TRACKING        CreateDate  \\\n",
       "8995  2019-12-03 00:00:00.000         9916608512  2019-12-04 07:03   \n",
       "8996  2019-12-03 00:00:00.000         9916608424  2019-12-04 07:03   \n",
       "8997  2019-12-03 00:00:00.000         9916608466  2019-12-04 07:03   \n",
       "8998  2019-12-03 00:00:00.000         9916608423  2019-12-04 07:03   \n",
       "8999  2019-12-03 00:00:00.000         9916608420  2019-12-04 07:03   \n",
       "\n",
       "               ActualDelivery  Carrier ConsigneeCity ConsigneeCountry  \\\n",
       "8995  2019-12-09 00:00:00.000        4     SHEBOYGAN              NaN   \n",
       "8996  2019-12-10 00:00:00.000        4  APPLE VALLEY              NaN   \n",
       "8997  2019-12-05 00:00:00.000        4     MIAMITOWN              NaN   \n",
       "8998  2019-12-09 00:00:00.000        4         MARCY              NaN   \n",
       "8999  2019-12-05 00:00:00.000        4        LUGOFF              NaN   \n",
       "\n",
       "     ConsigneeZip    DetailCity DetailState  ...     av_dow   AS_dow  \\\n",
       "8995        53081        DUNCAN          SC  ...   Thursday  Tuesday   \n",
       "8996        92307  APPLE VALLEY          CA  ...     Friday  Tuesday   \n",
       "8997        45041        DUNCAN          SC  ...  Wednesday  Tuesday   \n",
       "8998        13403      CARLISLE          PA  ...     Friday  Tuesday   \n",
       "8999        29078        DUNCAN          SC  ...  Wednesday  Tuesday   \n",
       "\n",
       "                       EST_AV holiday_flag               new_EST_AV  \\\n",
       "8995  2019-12-05 00:00:00.000        False  2019-12-05 00:00:00.000   \n",
       "8996  2019-12-06 00:00:00.000        False  2019-12-06 00:00:00.000   \n",
       "8997  2019-12-04 00:00:00.000        False  2019-12-04 00:00:00.000   \n",
       "8998  2019-12-06 00:00:00.000        False  2019-12-06 00:00:00.000   \n",
       "8999  2019-12-04 00:00:00.000        False  2019-12-04 00:00:00.000   \n",
       "\n",
       "     new_EST_AV_dow             Final_EST_AV Final_EST_AV_dow    target  \\\n",
       "8995       Thursday  2019-12-05 00:00:00.000         Thursday  positive   \n",
       "8996         Friday  2019-12-06 00:00:00.000           Friday  positive   \n",
       "8997      Wednesday  2019-12-04 00:00:00.000        Wednesday  positive   \n",
       "8998         Friday  2019-12-06 00:00:00.000           Friday  positive   \n",
       "8999      Wednesday  2019-12-04 00:00:00.000        Wednesday  positive   \n",
       "\n",
       "     target_numerical  \n",
       "8995                1  \n",
       "8996                1  \n",
       "8997                1  \n",
       "8998                1  \n",
       "8999                1  \n",
       "\n",
       "[5 rows x 61 columns]"
      ]
     },
     "execution_count": 19,
     "metadata": {},
     "output_type": "execute_result"
    }
   ],
   "source": [
    "train = pd.read_csv('https://raw.githubusercontent.com/ZachOhl/kenco/main/interview_train_data.csv')\n",
    "train.tail()"
   ]
  },
  {
   "cell_type": "code",
   "execution_count": null,
   "metadata": {},
   "outputs": [],
   "source": [
    "datetime_cols = ['ActualShip', 'CreateDate', 'ActualDelivery', ]"
   ]
  },
  {
   "cell_type": "code",
   "execution_count": 18,
   "metadata": {
    "executionInfo": {
     "elapsed": 389,
     "status": "ok",
     "timestamp": 1679410065497,
     "user": {
      "displayName": "Zachary Ohl",
      "userId": "00082794272160020209"
     },
     "user_tz": 240
    },
    "id": "otOeVhnlgutV"
   },
   "outputs": [
    {
     "data": {
      "text/html": [
       "<div>\n",
       "<style scoped>\n",
       "    .dataframe tbody tr th:only-of-type {\n",
       "        vertical-align: middle;\n",
       "    }\n",
       "\n",
       "    .dataframe tbody tr th {\n",
       "        vertical-align: top;\n",
       "    }\n",
       "\n",
       "    .dataframe thead th {\n",
       "        text-align: right;\n",
       "    }\n",
       "</style>\n",
       "<table border=\"1\" class=\"dataframe\">\n",
       "  <thead>\n",
       "    <tr style=\"text-align: right;\">\n",
       "      <th></th>\n",
       "      <th>ActualShip</th>\n",
       "      <th>KEY_LOAD_TRACKING</th>\n",
       "      <th>CreateDate</th>\n",
       "      <th>ActualDelivery</th>\n",
       "      <th>Carrier</th>\n",
       "      <th>ConsigneeCity</th>\n",
       "      <th>ConsigneeCountry</th>\n",
       "      <th>ConsigneeZip</th>\n",
       "      <th>DetailCity</th>\n",
       "      <th>DetailState</th>\n",
       "      <th>...</th>\n",
       "      <th>av_dow</th>\n",
       "      <th>AS_dow</th>\n",
       "      <th>EST_AV</th>\n",
       "      <th>holiday_flag</th>\n",
       "      <th>new_EST_AV</th>\n",
       "      <th>new_EST_AV_dow</th>\n",
       "      <th>Final_EST_AV</th>\n",
       "      <th>Final_EST_AV_dow</th>\n",
       "      <th>target</th>\n",
       "      <th>target_numerical</th>\n",
       "    </tr>\n",
       "  </thead>\n",
       "  <tbody>\n",
       "    <tr>\n",
       "      <th>0</th>\n",
       "      <td>2019-12-03 00:00:00.000</td>\n",
       "      <td>99172562938</td>\n",
       "      <td>2019-12-04 07:02</td>\n",
       "      <td>2019-12-04 00:00:00.000</td>\n",
       "      <td>4</td>\n",
       "      <td>BROOKS</td>\n",
       "      <td>NaN</td>\n",
       "      <td>40109</td>\n",
       "      <td>BROOKS</td>\n",
       "      <td>KY</td>\n",
       "      <td>...</td>\n",
       "      <td>Wednesday</td>\n",
       "      <td>Tuesday</td>\n",
       "      <td>2019-12-04 00:00:00.000</td>\n",
       "      <td>False</td>\n",
       "      <td>2019-12-04 00:00:00.000</td>\n",
       "      <td>Wednesday</td>\n",
       "      <td>2019-12-04 00:00:00.000</td>\n",
       "      <td>Wednesday</td>\n",
       "      <td>positive</td>\n",
       "      <td>1</td>\n",
       "    </tr>\n",
       "    <tr>\n",
       "      <th>1</th>\n",
       "      <td>2019-12-03 00:00:00.000</td>\n",
       "      <td>9916608510</td>\n",
       "      <td>2019-12-04 07:03</td>\n",
       "      <td>2019-12-09 00:00:00.000</td>\n",
       "      <td>4</td>\n",
       "      <td>EDWARDSVILLE</td>\n",
       "      <td>NaN</td>\n",
       "      <td>62025</td>\n",
       "      <td>ARDEN</td>\n",
       "      <td>NC</td>\n",
       "      <td>...</td>\n",
       "      <td>Thursday</td>\n",
       "      <td>Tuesday</td>\n",
       "      <td>2019-12-05 00:00:00.000</td>\n",
       "      <td>False</td>\n",
       "      <td>2019-12-05 00:00:00.000</td>\n",
       "      <td>Thursday</td>\n",
       "      <td>2019-12-05 00:00:00.000</td>\n",
       "      <td>Thursday</td>\n",
       "      <td>positive</td>\n",
       "      <td>1</td>\n",
       "    </tr>\n",
       "    <tr>\n",
       "      <th>2</th>\n",
       "      <td>2019-12-03 00:00:00.000</td>\n",
       "      <td>9915539095</td>\n",
       "      <td>2019-12-04 07:04</td>\n",
       "      <td>2019-12-05 00:00:00.000</td>\n",
       "      <td>4</td>\n",
       "      <td>COLUMBUS</td>\n",
       "      <td>NaN</td>\n",
       "      <td>43228</td>\n",
       "      <td>BECKLEY</td>\n",
       "      <td>WV</td>\n",
       "      <td>...</td>\n",
       "      <td>Thursday</td>\n",
       "      <td>Tuesday</td>\n",
       "      <td>2019-12-05 00:00:00.000</td>\n",
       "      <td>False</td>\n",
       "      <td>2019-12-05 00:00:00.000</td>\n",
       "      <td>Thursday</td>\n",
       "      <td>2019-12-05 00:00:00.000</td>\n",
       "      <td>Thursday</td>\n",
       "      <td>positive</td>\n",
       "      <td>1</td>\n",
       "    </tr>\n",
       "    <tr>\n",
       "      <th>3</th>\n",
       "      <td>2019-12-03 00:00:00.000</td>\n",
       "      <td>9916608430</td>\n",
       "      <td>2019-12-04 07:05</td>\n",
       "      <td>2019-12-09 00:00:00.000</td>\n",
       "      <td>4</td>\n",
       "      <td>MENOMONIE</td>\n",
       "      <td>NaN</td>\n",
       "      <td>54751</td>\n",
       "      <td>DUNCAN</td>\n",
       "      <td>SC</td>\n",
       "      <td>...</td>\n",
       "      <td>Friday</td>\n",
       "      <td>Tuesday</td>\n",
       "      <td>2019-12-06 00:00:00.000</td>\n",
       "      <td>False</td>\n",
       "      <td>2019-12-06 00:00:00.000</td>\n",
       "      <td>Friday</td>\n",
       "      <td>2019-12-06 00:00:00.000</td>\n",
       "      <td>Friday</td>\n",
       "      <td>positive</td>\n",
       "      <td>1</td>\n",
       "    </tr>\n",
       "    <tr>\n",
       "      <th>4</th>\n",
       "      <td>2019-12-03 00:00:00.000</td>\n",
       "      <td>9916608428</td>\n",
       "      <td>2019-12-04 07:04</td>\n",
       "      <td>2019-12-09 00:00:00.000</td>\n",
       "      <td>4</td>\n",
       "      <td>OTTAWA</td>\n",
       "      <td>NaN</td>\n",
       "      <td>66067</td>\n",
       "      <td>ARDEN</td>\n",
       "      <td>NC</td>\n",
       "      <td>...</td>\n",
       "      <td>Friday</td>\n",
       "      <td>Tuesday</td>\n",
       "      <td>2019-12-06 00:00:00.000</td>\n",
       "      <td>False</td>\n",
       "      <td>2019-12-06 00:00:00.000</td>\n",
       "      <td>Friday</td>\n",
       "      <td>2019-12-06 00:00:00.000</td>\n",
       "      <td>Friday</td>\n",
       "      <td>positive</td>\n",
       "      <td>1</td>\n",
       "    </tr>\n",
       "  </tbody>\n",
       "</table>\n",
       "<p>5 rows × 61 columns</p>\n",
       "</div>"
      ],
      "text/plain": [
       "                ActualShip  KEY_LOAD_TRACKING        CreateDate  \\\n",
       "0  2019-12-03 00:00:00.000        99172562938  2019-12-04 07:02   \n",
       "1  2019-12-03 00:00:00.000         9916608510  2019-12-04 07:03   \n",
       "2  2019-12-03 00:00:00.000         9915539095  2019-12-04 07:04   \n",
       "3  2019-12-03 00:00:00.000         9916608430  2019-12-04 07:05   \n",
       "4  2019-12-03 00:00:00.000         9916608428  2019-12-04 07:04   \n",
       "\n",
       "            ActualDelivery  Carrier ConsigneeCity ConsigneeCountry  \\\n",
       "0  2019-12-04 00:00:00.000        4        BROOKS              NaN   \n",
       "1  2019-12-09 00:00:00.000        4  EDWARDSVILLE              NaN   \n",
       "2  2019-12-05 00:00:00.000        4      COLUMBUS              NaN   \n",
       "3  2019-12-09 00:00:00.000        4     MENOMONIE              NaN   \n",
       "4  2019-12-09 00:00:00.000        4        OTTAWA              NaN   \n",
       "\n",
       "  ConsigneeZip DetailCity DetailState  ...     av_dow   AS_dow  \\\n",
       "0        40109     BROOKS          KY  ...  Wednesday  Tuesday   \n",
       "1        62025      ARDEN          NC  ...   Thursday  Tuesday   \n",
       "2        43228    BECKLEY          WV  ...   Thursday  Tuesday   \n",
       "3        54751     DUNCAN          SC  ...     Friday  Tuesday   \n",
       "4        66067      ARDEN          NC  ...     Friday  Tuesday   \n",
       "\n",
       "                    EST_AV holiday_flag               new_EST_AV  \\\n",
       "0  2019-12-04 00:00:00.000        False  2019-12-04 00:00:00.000   \n",
       "1  2019-12-05 00:00:00.000        False  2019-12-05 00:00:00.000   \n",
       "2  2019-12-05 00:00:00.000        False  2019-12-05 00:00:00.000   \n",
       "3  2019-12-06 00:00:00.000        False  2019-12-06 00:00:00.000   \n",
       "4  2019-12-06 00:00:00.000        False  2019-12-06 00:00:00.000   \n",
       "\n",
       "  new_EST_AV_dow             Final_EST_AV Final_EST_AV_dow    target  \\\n",
       "0      Wednesday  2019-12-04 00:00:00.000        Wednesday  positive   \n",
       "1       Thursday  2019-12-05 00:00:00.000         Thursday  positive   \n",
       "2       Thursday  2019-12-05 00:00:00.000         Thursday  positive   \n",
       "3         Friday  2019-12-06 00:00:00.000           Friday  positive   \n",
       "4         Friday  2019-12-06 00:00:00.000           Friday  positive   \n",
       "\n",
       "  target_numerical  \n",
       "0                1  \n",
       "1                1  \n",
       "2                1  \n",
       "3                1  \n",
       "4                1  \n",
       "\n",
       "[5 rows x 61 columns]"
      ]
     },
     "execution_count": 18,
     "metadata": {},
     "output_type": "execute_result"
    }
   ],
   "source": [
    "test = pd.read_csv('https://raw.githubusercontent.com/ZachOhl/kenco/main/interview_test_data.csv')\n",
    "test.head()"
   ]
  },
  {
   "cell_type": "code",
   "execution_count": 6,
   "metadata": {
    "colab": {
     "base_uri": "https://localhost:8080/"
    },
    "executionInfo": {
     "elapsed": 5,
     "status": "ok",
     "timestamp": 1679412442465,
     "user": {
      "displayName": "Zachary Ohl",
      "userId": "00082794272160020209"
     },
     "user_tz": 240
    },
    "id": "MNjDOeI-guvt",
    "outputId": "dae505e9-89e5-4c50-f36e-285545174357"
   },
   "outputs": [
    {
     "data": {
      "text/plain": [
       "True"
      ]
     },
     "execution_count": 6,
     "metadata": {},
     "output_type": "execute_result"
    }
   ],
   "source": [
    "all(train.columns == test.columns)\n",
    "#columns are same in train/test datasets"
   ]
  },
  {
   "cell_type": "code",
   "execution_count": 7,
   "metadata": {
    "colab": {
     "base_uri": "https://localhost:8080/"
    },
    "executionInfo": {
     "elapsed": 12,
     "status": "ok",
     "timestamp": 1679413057469,
     "user": {
      "displayName": "Zachary Ohl",
      "userId": "00082794272160020209"
     },
     "user_tz": 240
    },
    "id": "0_e6L1Hw0VGp",
    "outputId": "79ee3f2b-4104-4065-893f-893a0f0479c3"
   },
   "outputs": [
    {
     "data": {
      "text/plain": [
       "((9000, 61), (1478, 61))"
      ]
     },
     "execution_count": 7,
     "metadata": {},
     "output_type": "execute_result"
    }
   ],
   "source": [
    "train.shape, test.shape"
   ]
  },
  {
   "cell_type": "code",
   "execution_count": 28,
   "metadata": {},
   "outputs": [
    {
     "data": {
      "text/plain": [
       "(10478, 61)"
      ]
     },
     "execution_count": 28,
     "metadata": {},
     "output_type": "execute_result"
    }
   ],
   "source": [
    "fulldata = pd.concat([train, test], axis=0)  #all feature engineering s.b. done on the \n",
    "    #full dataset. Afterwards, resplit into train/test. \n",
    "    #Last index of train is 8999\n",
    "first_test_ind = 9000\n",
    "fulldata.shape"
   ]
  },
  {
   "cell_type": "code",
   "execution_count": 29,
   "metadata": {},
   "outputs": [
    {
     "data": {
      "text/plain": [
       "(9000, 61)"
      ]
     },
     "execution_count": 29,
     "metadata": {},
     "output_type": "execute_result"
    }
   ],
   "source": [
    "fulldata.iloc[:first_test_ind].shape"
   ]
  },
  {
   "cell_type": "code",
   "execution_count": 22,
   "metadata": {
    "collapsed": true
   },
   "outputs": [
    {
     "name": "stdout",
     "output_type": "stream",
     "text": [
      "<class 'pandas.core.frame.DataFrame'>\n",
      "Int64Index: 10478 entries, 0 to 1477\n",
      "Data columns (total 61 columns):\n",
      " #   Column                 Non-Null Count  Dtype  \n",
      "---  ------                 --------------  -----  \n",
      " 0   ActualShip             10478 non-null  object \n",
      " 1   KEY_LOAD_TRACKING      10478 non-null  int64  \n",
      " 2   CreateDate             10478 non-null  object \n",
      " 3   ActualDelivery         10475 non-null  object \n",
      " 4   Carrier                10478 non-null  int64  \n",
      " 5   ConsigneeCity          10478 non-null  object \n",
      " 6   ConsigneeCountry       94 non-null     object \n",
      " 7   ConsigneeZip           10478 non-null  object \n",
      " 8   DetailCity             10406 non-null  object \n",
      " 9   DetailState            10406 non-null  object \n",
      " 10  DetailCode             10478 non-null  object \n",
      " 11  DetailCodeDescription  10478 non-null  object \n",
      " 12  DetailCreateDate       10478 non-null  object \n",
      " 13  DetailDate             10478 non-null  object \n",
      " 14  ShipperCity            10478 non-null  object \n",
      " 15  ShipperState           10478 non-null  object \n",
      " 16  ShipperZip             10478 non-null  object \n",
      " 17  ShipperCountry         94 non-null     object \n",
      " 18  AV_CD                  10478 non-null  object \n",
      " 19  AV                     10478 non-null  object \n",
      " 20  PRO                    10478 non-null  int64  \n",
      " 21  DestCity               10478 non-null  object \n",
      " 22  DestState              10470 non-null  object \n",
      " 23  DestCtry               10478 non-null  object \n",
      " 24  DestZip                10478 non-null  object \n",
      " 25  OriginCity             10478 non-null  object \n",
      " 26  OriginState            10477 non-null  object \n",
      " 27  OriginCtry             10478 non-null  object \n",
      " 28  OriginZip              10478 non-null  object \n",
      " 29  Lane                   10478 non-null  object \n",
      " 30  ShipmentType           10478 non-null  object \n",
      " 31  CarrierMode            10478 non-null  object \n",
      " 32  ActualTransitTime      10478 non-null  float64\n",
      " 33  DeliveryDays           10478 non-null  float64\n",
      " 34  ServiceDays            10478 non-null  int64  \n",
      " 35  Weight                 10478 non-null  float64\n",
      " 36  CustomerDistance       10478 non-null  float64\n",
      " 37  RAD                    8047 non-null   object \n",
      " 38  DestName               10478 non-null  int64  \n",
      " 39  Goal                   10478 non-null  object \n",
      " 40  Goal2                  10478 non-null  object \n",
      " 41  InvoiceCost            10478 non-null  float64\n",
      " 42  Mileage                10449 non-null  float64\n",
      " 43  OnTimeShip             10478 non-null  object \n",
      " 44  OnTimeDelivery         10478 non-null  object \n",
      " 45  Quantity               10478 non-null  float64\n",
      " 46  TargetShip_Early       10478 non-null  object \n",
      " 47  Status                 10478 non-null  object \n",
      " 48  ActualDeliveryTime     10475 non-null  object \n",
      " 49  ActualShipTime         10478 non-null  object \n",
      " 50  AVTime                 10478 non-null  object \n",
      " 51  av_dow                 10478 non-null  object \n",
      " 52  AS_dow                 10478 non-null  object \n",
      " 53  EST_AV                 10478 non-null  object \n",
      " 54  holiday_flag           10478 non-null  bool   \n",
      " 55  new_EST_AV             10478 non-null  object \n",
      " 56  new_EST_AV_dow         10478 non-null  object \n",
      " 57  Final_EST_AV           10478 non-null  object \n",
      " 58  Final_EST_AV_dow       10478 non-null  object \n",
      " 59  target                 10478 non-null  object \n",
      " 60  target_numerical       10478 non-null  int64  \n",
      "dtypes: bool(1), float64(7), int64(6), object(47)\n",
      "memory usage: 4.9+ MB\n"
     ]
    }
   ],
   "source": [
    "fulldata.info()"
   ]
  },
  {
   "cell_type": "code",
   "execution_count": 9,
   "metadata": {
    "colab": {
     "base_uri": "https://localhost:8080/"
    },
    "executionInfo": {
     "elapsed": 657,
     "status": "ok",
     "timestamp": 1679413144096,
     "user": {
      "displayName": "Zachary Ohl",
      "userId": "00082794272160020209"
     },
     "user_tz": 240
    },
    "id": "IJi6XzulyDPd",
    "outputId": "06da01ab-8e65-4090-cd25-de75d84044ee"
   },
   "outputs": [
    {
     "data": {
      "text/plain": [
       "object     47\n",
       "float64     7\n",
       "int64       6\n",
       "bool        1\n",
       "dtype: int64"
      ]
     },
     "execution_count": 9,
     "metadata": {},
     "output_type": "execute_result"
    }
   ],
   "source": [
    "train.dtypes.value_counts()"
   ]
  },
  {
   "cell_type": "code",
   "execution_count": 11,
   "metadata": {
    "id": "rDi9jR3VyBaV"
   },
   "outputs": [
    {
     "data": {
      "text/html": [
       "<div>\n",
       "<style scoped>\n",
       "    .dataframe tbody tr th:only-of-type {\n",
       "        vertical-align: middle;\n",
       "    }\n",
       "\n",
       "    .dataframe tbody tr th {\n",
       "        vertical-align: top;\n",
       "    }\n",
       "\n",
       "    .dataframe thead th {\n",
       "        text-align: right;\n",
       "    }\n",
       "</style>\n",
       "<table border=\"1\" class=\"dataframe\">\n",
       "  <thead>\n",
       "    <tr style=\"text-align: right;\">\n",
       "      <th></th>\n",
       "      <th>KEY_LOAD_TRACKING</th>\n",
       "      <th>Carrier</th>\n",
       "      <th>PRO</th>\n",
       "      <th>ServiceDays</th>\n",
       "      <th>DestName</th>\n",
       "      <th>target_numerical</th>\n",
       "    </tr>\n",
       "  </thead>\n",
       "  <tbody>\n",
       "    <tr>\n",
       "      <th>0</th>\n",
       "      <td>3812945156</td>\n",
       "      <td>4</td>\n",
       "      <td>3812945156</td>\n",
       "      <td>2</td>\n",
       "      <td>610</td>\n",
       "      <td>1</td>\n",
       "    </tr>\n",
       "    <tr>\n",
       "      <th>1</th>\n",
       "      <td>36700475761</td>\n",
       "      <td>4</td>\n",
       "      <td>36700475761</td>\n",
       "      <td>1</td>\n",
       "      <td>2436</td>\n",
       "      <td>0</td>\n",
       "    </tr>\n",
       "    <tr>\n",
       "      <th>2</th>\n",
       "      <td>40356094</td>\n",
       "      <td>0</td>\n",
       "      <td>40356094</td>\n",
       "      <td>4</td>\n",
       "      <td>1486</td>\n",
       "      <td>0</td>\n",
       "    </tr>\n",
       "    <tr>\n",
       "      <th>3</th>\n",
       "      <td>99957685869</td>\n",
       "      <td>4</td>\n",
       "      <td>99957685869</td>\n",
       "      <td>2</td>\n",
       "      <td>628</td>\n",
       "      <td>1</td>\n",
       "    </tr>\n",
       "    <tr>\n",
       "      <th>4</th>\n",
       "      <td>4265894113</td>\n",
       "      <td>3</td>\n",
       "      <td>4265894113</td>\n",
       "      <td>0</td>\n",
       "      <td>3263</td>\n",
       "      <td>0</td>\n",
       "    </tr>\n",
       "    <tr>\n",
       "      <th>...</th>\n",
       "      <td>...</td>\n",
       "      <td>...</td>\n",
       "      <td>...</td>\n",
       "      <td>...</td>\n",
       "      <td>...</td>\n",
       "      <td>...</td>\n",
       "    </tr>\n",
       "    <tr>\n",
       "      <th>8995</th>\n",
       "      <td>9916608512</td>\n",
       "      <td>4</td>\n",
       "      <td>9916608512</td>\n",
       "      <td>2</td>\n",
       "      <td>1932</td>\n",
       "      <td>1</td>\n",
       "    </tr>\n",
       "    <tr>\n",
       "      <th>8996</th>\n",
       "      <td>9916608424</td>\n",
       "      <td>4</td>\n",
       "      <td>9916608424</td>\n",
       "      <td>3</td>\n",
       "      <td>3507</td>\n",
       "      <td>1</td>\n",
       "    </tr>\n",
       "    <tr>\n",
       "      <th>8997</th>\n",
       "      <td>9916608466</td>\n",
       "      <td>4</td>\n",
       "      <td>9916608466</td>\n",
       "      <td>1</td>\n",
       "      <td>1230</td>\n",
       "      <td>1</td>\n",
       "    </tr>\n",
       "    <tr>\n",
       "      <th>8998</th>\n",
       "      <td>9916608423</td>\n",
       "      <td>4</td>\n",
       "      <td>9916608423</td>\n",
       "      <td>3</td>\n",
       "      <td>3490</td>\n",
       "      <td>1</td>\n",
       "    </tr>\n",
       "    <tr>\n",
       "      <th>8999</th>\n",
       "      <td>9916608420</td>\n",
       "      <td>4</td>\n",
       "      <td>9916608420</td>\n",
       "      <td>1</td>\n",
       "      <td>2777</td>\n",
       "      <td>1</td>\n",
       "    </tr>\n",
       "  </tbody>\n",
       "</table>\n",
       "<p>9000 rows × 6 columns</p>\n",
       "</div>"
      ],
      "text/plain": [
       "      KEY_LOAD_TRACKING  Carrier          PRO  ServiceDays  DestName  \\\n",
       "0            3812945156        4   3812945156            2       610   \n",
       "1           36700475761        4  36700475761            1      2436   \n",
       "2              40356094        0     40356094            4      1486   \n",
       "3           99957685869        4  99957685869            2       628   \n",
       "4            4265894113        3   4265894113            0      3263   \n",
       "...                 ...      ...          ...          ...       ...   \n",
       "8995         9916608512        4   9916608512            2      1932   \n",
       "8996         9916608424        4   9916608424            3      3507   \n",
       "8997         9916608466        4   9916608466            1      1230   \n",
       "8998         9916608423        4   9916608423            3      3490   \n",
       "8999         9916608420        4   9916608420            1      2777   \n",
       "\n",
       "      target_numerical  \n",
       "0                    1  \n",
       "1                    0  \n",
       "2                    0  \n",
       "3                    1  \n",
       "4                    0  \n",
       "...                ...  \n",
       "8995                 1  \n",
       "8996                 1  \n",
       "8997                 1  \n",
       "8998                 1  \n",
       "8999                 1  \n",
       "\n",
       "[9000 rows x 6 columns]"
      ]
     },
     "execution_count": 11,
     "metadata": {},
     "output_type": "execute_result"
    }
   ],
   "source": [
    "train.select_dtypes(\"int64\") #"
   ]
  },
  {
   "cell_type": "code",
   "execution_count": 17,
   "metadata": {
    "id": "-SswgybRyBcz"
   },
   "outputs": [
    {
     "data": {
      "text/html": [
       "<div>\n",
       "<style scoped>\n",
       "    .dataframe tbody tr th:only-of-type {\n",
       "        vertical-align: middle;\n",
       "    }\n",
       "\n",
       "    .dataframe tbody tr th {\n",
       "        vertical-align: top;\n",
       "    }\n",
       "\n",
       "    .dataframe thead th {\n",
       "        text-align: right;\n",
       "    }\n",
       "</style>\n",
       "<table border=\"1\" class=\"dataframe\">\n",
       "  <thead>\n",
       "    <tr style=\"text-align: right;\">\n",
       "      <th></th>\n",
       "      <th>Carrier</th>\n",
       "      <th>ServiceDays</th>\n",
       "    </tr>\n",
       "  </thead>\n",
       "  <tbody>\n",
       "    <tr>\n",
       "      <th>Carrier</th>\n",
       "      <td>1.000000</td>\n",
       "      <td>0.034471</td>\n",
       "    </tr>\n",
       "    <tr>\n",
       "      <th>ServiceDays</th>\n",
       "      <td>0.034471</td>\n",
       "      <td>1.000000</td>\n",
       "    </tr>\n",
       "  </tbody>\n",
       "</table>\n",
       "</div>"
      ],
      "text/plain": [
       "              Carrier  ServiceDays\n",
       "Carrier      1.000000     0.034471\n",
       "ServiceDays  0.034471     1.000000"
      ]
     },
     "execution_count": 17,
     "metadata": {},
     "output_type": "execute_result"
    }
   ],
   "source": [
    "train[['Carrier', 'ServiceDays']].corr()"
   ]
  },
  {
   "cell_type": "code",
   "execution_count": null,
   "metadata": {
    "id": "5LaeuWRcyBfE"
   },
   "outputs": [],
   "source": []
  },
  {
   "cell_type": "code",
   "execution_count": null,
   "metadata": {
    "id": "iNNEMilbyBhS"
   },
   "outputs": [],
   "source": []
  },
  {
   "cell_type": "code",
   "execution_count": null,
   "metadata": {
    "id": "4qf2ybYSyBjT"
   },
   "outputs": [],
   "source": []
  },
  {
   "cell_type": "code",
   "execution_count": null,
   "metadata": {
    "id": "Zwy-71BmyBlo"
   },
   "outputs": [],
   "source": []
  },
  {
   "cell_type": "code",
   "execution_count": null,
   "metadata": {
    "id": "SLfuqIi1yBni"
   },
   "outputs": [],
   "source": []
  },
  {
   "cell_type": "code",
   "execution_count": null,
   "metadata": {
    "id": "GraCtFmlyBpt"
   },
   "outputs": [],
   "source": []
  },
  {
   "cell_type": "code",
   "execution_count": null,
   "metadata": {
    "id": "vVbr9-9gyBsG"
   },
   "outputs": [],
   "source": []
  }
 ],
 "metadata": {
  "colab": {
   "authorship_tag": "ABX9TyPBJJPvA5U0H6x4qoMiOEHu",
   "provenance": []
  },
  "kernelspec": {
   "display_name": "Python 3 (ipykernel)",
   "language": "python",
   "name": "python3"
  },
  "language_info": {
   "codemirror_mode": {
    "name": "ipython",
    "version": 3
   },
   "file_extension": ".py",
   "mimetype": "text/x-python",
   "name": "python",
   "nbconvert_exporter": "python",
   "pygments_lexer": "ipython3",
   "version": "3.8.8"
  }
 },
 "nbformat": 4,
 "nbformat_minor": 1
}
